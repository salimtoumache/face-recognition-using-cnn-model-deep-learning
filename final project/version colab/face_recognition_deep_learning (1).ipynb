{
  "nbformat": 4,
  "nbformat_minor": 0,
  "metadata": {
    "colab": {
      "provenance": []
    },
    "kernelspec": {
      "name": "python3",
      "display_name": "Python 3"
    },
    "language_info": {
      "name": "python"
    }
  },
  "cells": [
    {
      "cell_type": "markdown",
      "source": [
        "# **Training the CNN (Convolutional Neural Network).**: "
      ],
      "metadata": {
        "id": "L2bN_gPMqSBV"
      }
    },
    {
      "cell_type": "code",
      "source": [
        "#import google drive\n",
        "from google.colab import drive\n",
        "drive.mount('/content/drive')"
      ],
      "metadata": {
        "colab": {
          "base_uri": "https://localhost:8080/"
        },
        "id": "weCmFprhwuvA",
        "outputId": "2dc5a9ba-fd89-4a43-8619-20c02eaad4b2"
      },
      "execution_count": 2,
      "outputs": [
        {
          "output_type": "stream",
          "name": "stdout",
          "text": [
            "Mounted at /content/drive\n"
          ]
        }
      ]
    },
    {
      "cell_type": "code",
      "source": [
        "#v \n",
        "from keras.models import Sequential\n",
        "from keras.layers import Dense,Activation,Flatten,Dropout\n",
        "from keras.layers import Conv2D,MaxPooling2D\n",
        "from keras.callbacks import ModelCheckpoint\n",
        "from sklearn.model_selection import train_test_split\n",
        "from keras.utils import np_utils\n",
        "import numpy as np\n",
        "import warnings\n",
        "import cv2\n",
        "import os\n"
      ],
      "metadata": {
        "id": "c_TvxziWunuo"
      },
      "execution_count": 3,
      "outputs": []
    },
    {
      "cell_type": "code",
      "source": [
        "# import data\n",
        "data_path = '/content/drive/MyDrive/Dataset'\n",
        "categories = os.listdir(data_path)\n",
        "labels = [i for i in range(len(categories))]\n",
        "\n",
        "label_dict = dict(zip(categories, labels))\n",
        "img_size = 32\n",
        "data = []\n",
        "target = []\n",
        "\n",
        "facedata = \"/content/drive/MyDrive/training/haarcascade_frontalface_default.xml\"\n",
        "cascade = cv2.CascadeClassifier(facedata)\n",
        "\n",
        "for category in categories:\n",
        "    folder_path = os.path.join(data_path, category)\n",
        "    img_names = os.listdir(folder_path)\n",
        "\n",
        "    for img_name in img_names:\n",
        "        img_path = os.path.join(folder_path, img_name)\n",
        "        img = cv2.imread(img_path)\n",
        "        faces = cascade.detectMultiScale(img)\n",
        "        try:\n",
        "            for f in faces:\n",
        "                x, y, w, h = [v for v in f]\n",
        "                sub_face = img[y:y + h, x:x + w]\n",
        "                gray = cv2.cvtColor(sub_face, cv2.COLOR_BGR2GRAY)\n",
        "                resized = cv2.resize(gray, (img_size, img_size))\n",
        "                data.append(resized)\n",
        "                target.append(label_dict[category])\n",
        "        except Exception as e:\n",
        "            print('Exception:', e)\n",
        "\n",
        "warnings.filterwarnings('ignore')\n",
        "data = np.array(data) / 255.0\n",
        "data = np.reshape(data, (data.shape[0], img_size, img_size, 1))\n",
        "target = np.array(target)\n",
        "\n",
        "\n",
        "new_target = np_utils.to_categorical(target)\n",
        "\n",
        "np.save('/content/drive/MyDrive/training/data', data)\n",
        "np.save('/content/drive/MyDrive/training/target', new_target)\n",
        "\n",
        "\n",
        "data = np.load('/content/drive/MyDrive/training/data.npy')\n",
        "target = np.load('/content/drive/MyDrive/training/target.npy')\n"
      ],
      "metadata": {
        "id": "dyIm1dx3xUh_"
      },
      "execution_count": 4,
      "outputs": []
    },
    {
      "cell_type": "code",
      "source": [
        "from keras.models import Sequential\n",
        "from keras.layers import Dense, Activation, Flatten, Dropout\n",
        "from keras.layers import Conv2D, MaxPooling2D\n",
        "from keras.callbacks import ModelCheckpoint\n",
        "\n",
        "\n"
      ],
      "metadata": {
        "id": "SxRe_gKNxbF2"
      },
      "execution_count": 5,
      "outputs": []
    },
    {
      "cell_type": "code",
      "source": [
        "#Convolutional Neural Network\n",
        "\n",
        "noOfFilters = 64\n",
        "sizeOfFilter1 = (3, 3)\n",
        "sizeOfFilter2 = (3, 3)\n",
        "sizeOfPool = (2, 2)\n",
        "noOfNode = 64\n",
        "\n",
        "model = Sequential()\n",
        "model.add((Conv2D(32, sizeOfFilter1, input_shape=data.shape[1:], activation='relu')))\n",
        "model.add((Conv2D(32, sizeOfFilter1, activation='relu')))\n",
        "model.add(MaxPooling2D(pool_size=sizeOfPool))\n",
        "\n",
        "model.add((Conv2D(64, sizeOfFilter2, activation='relu')))\n",
        "model.add((Conv2D(64, sizeOfFilter2, activation='relu')))\n",
        "model.add(MaxPooling2D(pool_size=sizeOfPool))\n",
        "model.add(Dropout(0.25))\n",
        "\n",
        "model.add(Flatten())\n",
        "model.add(Dense(noOfNode, activation='relu'))\n",
        "model.add(Dropout(0.25))\n",
        "model.add(Dense(2, activation='softmax'))\n",
        "\n",
        "model.compile(loss='categorical_crossentropy', optimizer='adam', metrics=['accuracy'])\n",
        "from sklearn.model_selection import train_test_split\n",
        "\n",
        "train_data, test_data, train_target, test_target = train_test_split(data, target, test_size=0.1)\n",
        "checkpoint = ModelCheckpoint('/content/drive/MyDrive/training/training/model-{epoch:03d}.model', monitor='val_loss', verbose=0, save_best_only=True,\n",
        "                              mode='auto')\n",
        "history = model.fit(train_data, train_target, epochs=10, callbacks=[checkpoint], validation_split=0.2)\n",
        "print('fin')"
      ],
      "metadata": {
        "id": "yeDo52uxxfuL"
      },
      "execution_count": null,
      "outputs": []
    },
    {
      "cell_type": "markdown",
      "source": [
        "# ***Model Testing***"
      ],
      "metadata": {
        "id": "ywFToiBrErcR"
      }
    },
    {
      "cell_type": "code",
      "source": [
        "import cv2\n",
        "import numpy as np\n",
        "from google.colab.patches import cv2_imshow\n",
        "from keras.callbacks import ModelCheckpoint\n",
        "from sklearn.model_selection import train_test_split\n",
        "from keras.models import load_model\n",
        "\n",
        "model = \"/content/drive/MyDrive/training/training/model-007.model\"\n",
        "model = load_model(model)\n",
        "face_clsfr = cv2.CascadeClassifier('/content/drive/MyDrive/training/haarcascade_frontalface_default.xml')\n",
        "img=cv2.imread('/content/drive/MyDrive/Dataset/know/ 100.jpg')\n",
        "gray = cv2.cvtColor(img, cv2.COLOR_BGR2GRAY)\n",
        "faces = face_clsfr.detectMultiScale(gray, 1.3, 3)\n",
        "for (x, y, w, h) in faces:\n",
        "  face_img = gray[y:y + w, x:x + w]\n",
        "  resized = cv2.resize(face_img, (32, 32))\n",
        "  normalized = resized / 255.0\n",
        "  reshaped = np.reshape(normalized, (1, 32, 32, 1))\n",
        "  result = model.predict(reshaped)\n",
        "  label = np.argmax(result, axis=1)[0]\n",
        "  cv2.rectangle(img, (x, y), (x + w, y + h), color_dict[label], 2)\n",
        "  cv2.rectangle(img, (x, 255 - 40), (x + w, 260), color_dict[label], -1)\n",
        "  cv2.putText(img, labels_dict[label], (x, 255 - 10), cv2.FONT_HERSHEY_SIMPLEX, 0.8, (255, 255, 255), 2)\n",
        "  cv2_imshow(img)\n",
        "  \n",
        "\n"
      ],
      "metadata": {
        "id": "sUfMO3U_9AU-"
      },
      "execution_count": null,
      "outputs": []
    },
    {
      "cell_type": "code",
      "source": [
        "from google.colab import files\n"
      ],
      "metadata": {
        "id": "k0bZTMtP0BQx"
      },
      "execution_count": null,
      "outputs": []
    },
    {
      "cell_type": "code",
      "source": [
        "# zip model for download\n",
        "!zip -r /content/training/model-013.model.zip /content/training/model-013.model\n"
      ],
      "metadata": {
        "colab": {
          "base_uri": "https://localhost:8080/"
        },
        "id": "Lbkustvv0XxS",
        "outputId": "17ac48db-ccdd-457c-f88d-f016c68c694a"
      },
      "execution_count": null,
      "outputs": [
        {
          "output_type": "stream",
          "name": "stdout",
          "text": [
            "  adding: content/training/model-013.model/ (stored 0%)\n",
            "  adding: content/training/model-013.model/saved_model.pb (deflated 89%)\n",
            "  adding: content/training/model-013.model/assets/ (stored 0%)\n",
            "  adding: content/training/model-013.model/keras_metadata.pb (deflated 92%)\n",
            "  adding: content/training/model-013.model/variables/ (stored 0%)\n",
            "  adding: content/training/model-013.model/variables/variables.index (deflated 69%)\n",
            "  adding: content/training/model-013.model/variables/variables.data-00000-of-00001 (deflated 18%)\n"
          ]
        }
      ]
    }
  ]
}